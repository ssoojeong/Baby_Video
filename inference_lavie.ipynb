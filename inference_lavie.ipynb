{
 "cells": [
  {
   "cell_type": "markdown",
   "metadata": {},
   "source": [
    "## Lavie"
   ]
  },
  {
   "cell_type": "code",
   "execution_count": 1,
   "metadata": {},
   "outputs": [
    {
     "name": "stdout",
     "output_type": "stream",
     "text": [
      "/userHome/userhome4/seungyeon/workdir/ChildrenSong/Baby_Video/LaVie/base\n"
     ]
    }
   ],
   "source": [
    "import os\n",
    "\n",
    "# 설정\n",
    "os.chdir(\"./LaVie/base\")\n",
    "print(os.getcwd())"
   ]
  },
  {
   "cell_type": "code",
   "execution_count": 4,
   "metadata": {},
   "outputs": [],
   "source": [
    "configs = \"configs/sample.yaml\"\n",
    "output_dir = \"../../output/LaVie/\"\n",
    "style = \"\"\n",
    "prompts = \"\"\"\n",
    "       Welcome to the forest cave. \\n\n",
    "       Beware of the dinosaurs that live here. \\n\n",
    "       The scariest animal on earth today. \\n\n",
    "       I feel like a Tyrannosaurus will appear out of nowhere. \\n\n",
    "       But don't worry. \\n\n",
    "       Brachiosaurus will appear and help Tyranno.\n",
    "       \"\"\""
   ]
  },
  {
   "cell_type": "code",
   "execution_count": 5,
   "metadata": {},
   "outputs": [
    {
     "name": "stdout",
     "output_type": "stream",
     "text": [
      "Ema existing!\n",
      "output_folder :  ../../output/LaVie/\n",
      "style :  \n",
      "Processing the ( Welcome to the forest cave) prompt\n",
      "100%|███████████████████████████████████████████| 50/50 [00:41<00:00,  1.20it/s]\n",
      "Processing the ( Beware of the dinosaurs that live here) prompt\n",
      "100%|███████████████████████████████████████████| 50/50 [00:41<00:00,  1.20it/s]\n",
      "Processing the ( The scariest animal on earth today) prompt\n",
      "100%|███████████████████████████████████████████| 50/50 [00:41<00:00,  1.20it/s]\n",
      "Processing the ( I feel like a Tyrannosaurus will appear out of nowhere) prompt\n",
      "100%|███████████████████████████████████████████| 50/50 [00:41<00:00,  1.20it/s]\n",
      "Processing the ( But don't worry) prompt\n",
      "100%|███████████████████████████████████████████| 50/50 [00:41<00:00,  1.19it/s]\n",
      "Processing the ( Brachiosaurus will appear and help Tyranno) prompt\n",
      "100%|███████████████████████████████████████████| 50/50 [00:41<00:00,  1.19it/s]\n",
      "Processing the ( ) prompt\n",
      "100%|███████████████████████████████████████████| 50/50 [00:41<00:00,  1.19it/s]\n",
      "save path ../../output/LaVie/\n"
     ]
    }
   ],
   "source": [
    "!python pipelines/sample.py \\\n",
    "    --config $configs \\\n",
    "    --prompts \"$prompts\" \\\n",
    "    --output_dir $output_dir \\\n",
    "    --style \"$style\""
   ]
  },
  {
   "cell_type": "code",
   "execution_count": null,
   "metadata": {},
   "outputs": [],
   "source": []
  }
 ],
 "metadata": {
  "kernelspec": {
   "display_name": "lavie",
   "language": "python",
   "name": "python3"
  },
  "language_info": {
   "codemirror_mode": {
    "name": "ipython",
    "version": 3
   },
   "file_extension": ".py",
   "mimetype": "text/x-python",
   "name": "python",
   "nbconvert_exporter": "python",
   "pygments_lexer": "ipython3",
   "version": "3.11.3"
  }
 },
 "nbformat": 4,
 "nbformat_minor": 2
}
