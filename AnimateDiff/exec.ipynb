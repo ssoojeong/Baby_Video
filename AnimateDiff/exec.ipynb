{
 "cells": [
  {
   "cell_type": "markdown",
   "metadata": {},
   "source": [
    "## Inference"
   ]
  },
  {
   "cell_type": "markdown",
   "metadata": {},
   "source": [
    "### 1. Setup repository and environment"
   ]
  },
  {
   "cell_type": "code",
   "execution_count": null,
   "metadata": {},
   "outputs": [],
   "source": [
    "git clone https://github.com/guoyww/AnimateDiff.git\n",
    "cd AnimateDiff\n",
    "\n",
    "pip install -r requirements.txt"
   ]
  },
  {
   "cell_type": "markdown",
   "metadata": {},
   "source": [
    "### 2. Launch the sampling script!"
   ]
  },
  {
   "cell_type": "code",
   "execution_count": null,
   "metadata": {},
   "outputs": [],
   "source": [
    "python -m scripts.animate --config configs/prompts/1_animate/1_1_animate_RealisticVision.yaml\n",
    "python -m scripts.animate --config configs/prompts/1_animate/1_1_oil_animate_RealisticVision.yaml\n",
    "\n",
    "python -m scripts.animate --config configs/prompts/1_animate/1_2_animate_FilmVelvia.yaml\n",
    "python -m scripts.animate --config configs/prompts/1_animate/1_3_animate_ToonYou.yaml\n",
    "python -m scripts.animate --config configs/prompts/1_animate/1_4_animate_MajicMix.yaml\n",
    "python -m scripts.animate --config configs/prompts/1_animate/1_5_animate_RcnzCartoon.yaml\n",
    "python -m scripts.animate --config configs/prompts/1_animate/1_6_animate_Lyriel.yaml\n",
    "python -m scripts.animate --config configs/prompts/1_animate/1_7_animate_Tusun.yaml\n",
    "\n",
    "python -m scripts.animate --config configs/prompts/1_animate/1_3_mine.yaml\n",
    "python -m scripts.animate --config configs/prompts/1_animate/1_4_mine.yaml\n",
    "python -m scripts.animate --config configs/prompts/1_animate/1_5_mine.yaml"
   ]
  },
  {
   "cell_type": "markdown",
   "metadata": {},
   "source": [
    "## Train"
   ]
  },
  {
   "cell_type": "code",
   "execution_count": null,
   "metadata": {},
   "outputs": [],
   "source": [
    "#To finetune the unet's image layers\n",
    "torchrun --nnodes=1 --nproc_per_node=1 train.py --config configs/training/v1/image_finetune.yaml\n",
    "\n",
    "#To train motion modules\n",
    "torchrun --nnodes=1 --nproc_per_node=1 train.py --config configs/training/v1/training.yaml"
   ]
  }
 ],
 "metadata": {
  "kernelspec": {
   "display_name": "anima",
   "language": "python",
   "name": "python3"
  },
  "language_info": {
   "codemirror_mode": {
    "name": "ipython",
    "version": 3
   },
   "file_extension": ".py",
   "mimetype": "text/x-python",
   "name": "python",
   "nbconvert_exporter": "python",
   "pygments_lexer": "ipython3",
   "version": "3.8.19"
  }
 },
 "nbformat": 4,
 "nbformat_minor": 2
}
