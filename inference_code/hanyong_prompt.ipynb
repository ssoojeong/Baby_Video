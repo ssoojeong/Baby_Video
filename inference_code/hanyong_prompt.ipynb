{
 "cells": [
  {
   "cell_type": "code",
   "execution_count": 1,
   "metadata": {},
   "outputs": [],
   "source": [
    "#columns 전처리\n",
    "import pandas as pd\n",
    "file_path = 'hanyong_baby_prompt.xlsx'\n",
    "df = pd.read_excel(file_path)\n",
    "new_column_names = ['index', 'user_input', 'kor', 'eng', 'prompt']\n",
    "df.columns = new_column_names"
   ]
  },
  {
   "cell_type": "code",
   "execution_count": 2,
   "metadata": {},
   "outputs": [
    {
     "data": {
      "text/plain": [
       "0     Welcome to the forest cave. Beware of the dino...\n",
       "1     A walk with Tami in the sunshine. Under the bl...\n",
       "2     Dance with the wind Even the sunlight and beau...\n",
       "3     There lived a little fairy in the forest. By t...\n",
       "4     A trip to the kind-hearted cloud country. Whit...\n",
       "5     Under the twinkling starlight. Following the g...\n",
       "6     Sing at the beach. Sing at the beach. Where th...\n",
       "7     On a lightly rainy day, I set a trap. She inad...\n",
       "8     Far across the rainbow bridge In the distance ...\n",
       "9     A dream with wings hidden among the flowers. S...\n",
       "10    Mirage sand castle woo woo. A fantasy castle s...\n",
       "11    Acorn Village Festival, Acorn Village Festival...\n",
       "12    Everyone come to the playground full of laught...\n",
       "13    Take a train and go on a trip. Passing the gre...\n",
       "14    Between the trees dancing under the moonlight....\n",
       "15    A little bird goes on an adventure. I flew to ...\n",
       "16    The night of toys has arrived. Little robots a...\n",
       "17    First day of spring picnic. I'm going with my ...\n",
       "18    Let's go camping! In a forested mountain valle...\n",
       "19    Wherever the baby dinosaur goes I can hear sin...\n",
       "Name: my_prompt, dtype: object"
      ]
     },
     "execution_count": 2,
     "metadata": {},
     "output_type": "execute_result"
    }
   ],
   "source": [
    "#prompt 전처리\n",
    "df['my_prompt']=df['prompt'].str.replace('\\n', '', regex=False)\n",
    "df['my_prompt']=df['my_prompt'].str.replace('\\\\', '', regex=False)\n",
    "df['my_prompt']"
   ]
  },
  {
   "cell_type": "code",
   "execution_count": 6,
   "metadata": {},
   "outputs": [],
   "source": [
    "#240919_인퍼런스용: 3문장+a\n",
    "# \"{가사}\"\n",
    "# “(generate a cartoon video depicting the following lyrics) {가사}”\n",
    "# “(generate a watercolor video depicting the following lyrics) {가사}”\n",
    "\n",
    "name = '240919'\n",
    "my_prompts = df['my_prompt'][:3]\n",
    "with open(f'/userHome/userhome4/demo/baby_video/Baby_Video/inference_code/{name}_prompts.txt', 'w') as f:\n",
    "    for prompt in my_prompts:\n",
    "        f.write(f'{prompt}')\n",
    "        f.write('\\n')\n",
    "        f.write(f'(generate a cartoon video depicting the following lyrics) {prompt}')\n",
    "        f.write('\\n')\n",
    "        f.write(f'(generate a watercolor video depicting the following lyrics) {prompt}')\n",
    "        f.write('\\n')\n"
   ]
  }
 ],
 "metadata": {
  "kernelspec": {
   "display_name": "anima",
   "language": "python",
   "name": "python3"
  },
  "language_info": {
   "codemirror_mode": {
    "name": "ipython",
    "version": 3
   },
   "file_extension": ".py",
   "mimetype": "text/x-python",
   "name": "python",
   "nbconvert_exporter": "python",
   "pygments_lexer": "ipython3",
   "version": "3.8.19"
  }
 },
 "nbformat": 4,
 "nbformat_minor": 2
}
