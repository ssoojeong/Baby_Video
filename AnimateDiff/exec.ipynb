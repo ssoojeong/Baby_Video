{
 "cells": [
  {
   "cell_type": "markdown",
   "metadata": {},
   "source": [
    "### 1. Setup repository and environment"
   ]
  },
  {
   "cell_type": "code",
   "execution_count": null,
   "metadata": {},
   "outputs": [],
   "source": [
    "git clone https://github.com/guoyww/AnimateDiff.git\n",
    "cd AnimateDiff\n",
    "\n",
    "pip install -r requirements.txt"
   ]
  },
  {
   "cell_type": "markdown",
   "metadata": {},
   "source": [
    "### 2. Launch the sampling script!"
   ]
  },
  {
   "cell_type": "code",
   "execution_count": null,
   "metadata": {},
   "outputs": [],
   "source": [
    "python -m scripts.animate --config configs/prompts/1_animate/1_1_animate_RealisticVision.yaml\n",
    "python -m scripts.animate --config configs/prompts/1_animate/1_1_oil_animate_RealisticVision.yaml\n",
    "\n",
    "python -m scripts.animate --config configs/prompts/1_animate/1_2_animate_FilmVelvia.yaml\n",
    "python -m scripts.animate --config configs/prompts/1_animate/1_3_animate_ToonYou.yaml\n",
    "python -m scripts.animate --config configs/prompts/1_animate/1_4_animate_MajicMix.yaml\n",
    "python -m scripts.animate --config configs/prompts/1_animate/1_5_animate_RcnzCartoon.yaml\n",
    "python -m scripts.animate --config configs/prompts/1_animate/1_6_animate_Lyriel.yaml\n",
    "python -m scripts.animate --config configs/prompts/1_animate/1_7_animate_Tusun.yaml"
   ]
  }
 ],
 "metadata": {
  "language_info": {
   "name": "python"
  }
 },
 "nbformat": 4,
 "nbformat_minor": 2
}
