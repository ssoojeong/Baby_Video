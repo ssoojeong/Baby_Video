{
 "cells": [
  {
   "cell_type": "markdown",
   "metadata": {},
   "source": [
    "## AnimateDiff"
   ]
  },
  {
   "cell_type": "markdown",
   "metadata": {},
   "source": [
    "### 1. Env Setting"
   ]
  },
  {
   "cell_type": "code",
   "execution_count": null,
   "metadata": {},
   "outputs": [],
   "source": [
    "conda activate anima\n",
    "cd AnimateDiff"
   ]
  },
  {
   "cell_type": "markdown",
   "metadata": {},
   "source": [
    "### 2. Select pre-trained cofig"
   ]
  },
  {
   "cell_type": "code",
   "execution_count": null,
   "metadata": {},
   "outputs": [],
   "source": [
    "#original config\n",
    "configs/prompts/1_animate/1_1_animate_RealisticVision.yaml\n",
    "configs/prompts/1_animate/1_2_animate_FilmVelvia.yaml\n",
    "configs/prompts/1_animate/1_3_animate_ToonYou.yaml\n",
    "configs/prompts/1_animate/1_4_animate_MajicMix.yaml\n",
    "configs/prompts/1_animate/1_5_animate_RcnzCartoon.yaml\n",
    "configs/prompts/1_animate/1_6_animate_Lyriel.yaml\n",
    "configs/prompts/1_animate/1_7_animate_Tusun.yaml"
   ]
  },
  {
   "cell_type": "markdown",
   "metadata": {},
   "source": [
    "### 3. Launch in Linux"
   ]
  },
  {
   "cell_type": "code",
   "execution_count": null,
   "metadata": {},
   "outputs": [],
   "source": [
    "CUDA_VISIBLE_DEVICES=2 python -m scripts.animate \\\n",
    "    --config configs/prompts/1_animate/1_3_animate_ToonYou.yaml \\\n",
    "    --my_prompt '/userHome/userhome4/demo/baby_video/Baby_Video/inference_code/240919_prompts.txt' \\\n",
    "    --save_dir '/userHome/userhome4/demo/baby_video/Baby_Video/inference_outputs/animatediff'"
   ]
  },
  {
   "cell_type": "code",
   "execution_count": null,
   "metadata": {},
   "outputs": [],
   "source": [
    "CUDA_VISIBLE_DEVICES=0 python -m scripts.animate \\\n",
    "    --config configs/prompts/1_animate/1_4_animate_MajicMix.yaml \\\n",
    "    --my_prompt '/userHome/userhome4/demo/baby_video/Baby_Video/inference_code/240919_prompts.txt' \\\n",
    "    --save_dir '/userHome/userhome4/demo/baby_video/Baby_Video/inference_outputs/animatediff'"
   ]
  },
  {
   "cell_type": "code",
   "execution_count": null,
   "metadata": {},
   "outputs": [],
   "source": [
    "CUDA_VISIBLE_DEVICES=2 python -m scripts.animate \\\n",
    "    --config configs/prompts/1_animate/1_5_animate_RcnzCartoon.yaml \\\n",
    "    --my_prompt '/userHome/userhome4/demo/baby_video/Baby_Video/inference_code/240919_prompts.txt' \\\n",
    "    --save_dir '/userHome/userhome4/demo/baby_video/Baby_Video/inference_outputs/animatediff'"
   ]
  },
  {
   "cell_type": "markdown",
   "metadata": {},
   "source": [
    "## Free-Bloom"
   ]
  },
  {
   "cell_type": "markdown",
   "metadata": {},
   "source": [
    "### 1. Env Setting"
   ]
  },
  {
   "cell_type": "code",
   "execution_count": null,
   "metadata": {},
   "outputs": [],
   "source": [
    "conda activate fb\n",
    "cd Free-Bloom"
   ]
  },
  {
   "cell_type": "markdown",
   "metadata": {},
   "source": [
    "### 2. Launch in Linux"
   ]
  },
  {
   "cell_type": "code",
   "execution_count": null,
   "metadata": {},
   "outputs": [],
   "source": [
    "python main.py \\\n",
    "    --config configs/flowers.yaml \\\n",
    "    --my_prompt '/userHome/userhome4/demo/baby_video/Baby_Video/inference_code/240919_prompts.txt' \\\n",
    "    --save_dir '/userHome/userhome4/demo/baby_video/Baby_Video/inference_outputs/free-bloom'"
   ]
  },
  {
   "cell_type": "markdown",
   "metadata": {},
   "source": [
    "## CogVideoX\n"
   ]
  },
  {
   "cell_type": "markdown",
   "metadata": {},
   "source": [
    "### (실행안됨 - 다시 테스트 필요)\n",
    "### 1. Launch by HuggingFace"
   ]
  },
  {
   "cell_type": "code",
   "execution_count": null,
   "metadata": {},
   "outputs": [],
   "source": [
    "#env setting: conda activate vgen\n",
    "\n",
    "import datetime, os\n",
    "import torch\n",
    "from diffusers import CogVideoXPipeline\n",
    "from diffusers.utils import export_to_video\n",
    "\n",
    "my_prompt='/userHome/userhome4/demo/baby_video/Baby_Video/inference_code/240919_prompts.txt'\n",
    "time_str = datetime.datetime.now().strftime(\"%Y-%m-%d\")\n",
    "save_dir=os.path.join('/userHome/userhome4/demo/baby_video/Baby_Video/inference_outputs/free-bloom', time_str)\n",
    "os.makedirs(save_dir, exist_ok=True)\n",
    "\n",
    "with open(my_prompt, \"r\") as f:\n",
    "    prompts = [line.strip() for line in f.readlines()]\n",
    "\n",
    "for idx, prompt in enumerate(prompts):\n",
    "    \n",
    "    pipe = CogVideoXPipeline.from_pretrained(\n",
    "        \"THUDM/CogVideoX-2b\",\n",
    "        torch_dtype=torch.float16\n",
    "    )\n",
    "\n",
    "    pipe.enable_model_cpu_offload()\n",
    "    pipe.enable_sequential_cpu_offload()\n",
    "    pipe.vae.enable_slicing()\n",
    "    pipe.vae.enable_tiling()\n",
    "    video = pipe(\n",
    "        prompt=prompt,\n",
    "        num_videos_per_prompt=1,\n",
    "        num_inference_steps=50,\n",
    "        num_frames=49,\n",
    "        guidance_scale=6,\n",
    "        generator=torch.Generator(device=\"cuda\").manual_seed(42),\n",
    "    ).frames[0]\n",
    "\n",
    "    export_to_video(video, f\"{save_dir}/{idx}_prompt.mp4\", fps=8)"
   ]
  }
 ],
 "metadata": {
  "kernelspec": {
   "display_name": "anima",
   "language": "python",
   "name": "python3"
  },
  "language_info": {
   "codemirror_mode": {
    "name": "ipython",
    "version": 3
   },
   "file_extension": ".py",
   "mimetype": "text/x-python",
   "name": "python",
   "nbconvert_exporter": "python",
   "pygments_lexer": "ipython3",
   "version": "3.8.19"
  }
 },
 "nbformat": 4,
 "nbformat_minor": 2
}
