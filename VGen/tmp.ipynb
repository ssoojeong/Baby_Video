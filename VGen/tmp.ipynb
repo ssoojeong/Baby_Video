{
 "cells": [
  {
   "cell_type": "code",
   "execution_count": 2,
   "metadata": {},
   "outputs": [
    {
     "name": "stdout",
     "output_type": "stream",
     "text": [
      "Collecting modelscope\n",
      "  Downloading modelscope-1.18.0-py3-none-any.whl.metadata (40 kB)\n",
      "Requirement already satisfied: requests>=2.25 in /userHome/userhome4/seungyeon/miniconda3/envs/vgen/lib/python3.8/site-packages (from modelscope) (2.32.3)\n",
      "Requirement already satisfied: tqdm>=4.64.0 in /userHome/userhome4/seungyeon/miniconda3/envs/vgen/lib/python3.8/site-packages (from modelscope) (4.66.5)\n",
      "Requirement already satisfied: urllib3>=1.26 in /userHome/userhome4/seungyeon/miniconda3/envs/vgen/lib/python3.8/site-packages (from modelscope) (2.2.3)\n",
      "Requirement already satisfied: charset-normalizer<4,>=2 in /userHome/userhome4/seungyeon/miniconda3/envs/vgen/lib/python3.8/site-packages (from requests>=2.25->modelscope) (3.3.2)\n",
      "Requirement already satisfied: idna<4,>=2.5 in /userHome/userhome4/seungyeon/miniconda3/envs/vgen/lib/python3.8/site-packages (from requests>=2.25->modelscope) (3.9)\n",
      "Requirement already satisfied: certifi>=2017.4.17 in /userHome/userhome4/seungyeon/miniconda3/envs/vgen/lib/python3.8/site-packages (from requests>=2.25->modelscope) (2024.8.30)\n",
      "Downloading modelscope-1.18.0-py3-none-any.whl (5.7 MB)\n",
      "\u001b[2K   \u001b[90m━━━━━━━━━━━━━━━━━━━━━━━━━━━━━━━━━━━━━━━━\u001b[0m \u001b[32m5.7/5.7 MB\u001b[0m \u001b[31m18.5 MB/s\u001b[0m eta \u001b[36m0:00:00\u001b[0ma \u001b[36m0:00:01\u001b[0m\n",
      "\u001b[?25hInstalling collected packages: modelscope\n",
      "Successfully installed modelscope-1.18.0\n"
     ]
    },
    {
     "name": "stderr",
     "output_type": "stream",
     "text": [
      "/userHome/userhome4/seungyeon/miniconda3/envs/vgen/lib/python3.8/site-packages/tqdm/auto.py:21: TqdmWarning: IProgress not found. Please update jupyter and ipywidgets. See https://ipywidgets.readthedocs.io/en/stable/user_install.html\n",
      "  from .autonotebook import tqdm as notebook_tqdm\n",
      "Downloading [configuration.json]: 100%|██████████| 56.0/56.0 [00:00<00:00, 125B/s]\n",
      "Downloading [midas_v3_dpt_large.pth]: 100%|██████████| 1.28G/1.28G [00:42<00:00, 32.2MB/s]\n",
      "Downloading [open_clip_pytorch_model.bin]:  97%|█████████▋| 3.56G/3.67G [02:33<23:13, 87.3kB/s]2024-09-15 17:00:09,264 - modelscope - WARNING - Downloading: models/._____temp/iic/tf-t2v/open_clip_pytorch_model.bin failed, reason: HTTPSConnectionPool(host='www.modelscope.cn', port=443): Read timed out. will retry\n",
      "Downloading [open_clip_pytorch_model.bin]: 3.72GB [03:38, 18.2MB/s]                            \n",
      "Downloading [README.md]: 100%|██████████| 3.99k/3.99k [00:00<00:00, 9.38kB/s]\n",
      "Downloading [sketch_simplification_gan.pth]: 100%|██████████| 169M/169M [00:10<00:00, 16.8MB/s] \n",
      "Downloading [sr_step_110000_ema.pth]: 100%|██████████| 5.26G/5.26G [02:32<00:00, 37.1MB/s]  \n",
      "Downloading [table5_pidinet.pth]: 100%|██████████| 2.74M/2.74M [00:00<00:00, 3.50MB/s]\n",
      "Downloading [tft2v_t2v_32frames_non_ema_560000.pth]: 100%|██████████| 5.28G/5.28G [02:42<00:00, 34.8MB/s]  \n",
      "Downloading [tft2v_t2v_non_ema_512000.pth]:  92%|█████████▏| 4.84G/5.28G [02:26<01:08, 6.84MB/s]  2024-09-15 17:09:06,275 - modelscope - WARNING - Downloading: models/._____temp/iic/tf-t2v/tft2v_t2v_non_ema_512000.pth failed, reason: HTTPSConnectionPool(host='www.modelscope.cn', port=443): Max retries exceeded with url: /api/v1/models/iic/tf-t2v/repo?Revision=master&FilePath=tft2v_t2v_non_ema_512000.pth (Caused by NameResolutionError(\"<urllib3.connection.HTTPSConnection object at 0x7f796aaf39d0>: Failed to resolve 'www.modelscope.cn' ([Errno -3] Temporary failure in name resolution)\")) will retry\n",
      "2024-09-15 17:09:06,282 - modelscope - WARNING - Downloading: models/._____temp/iic/tf-t2v/tft2v_t2v_non_ema_512000.pth failed, reason: HTTPSConnectionPool(host='www.modelscope.cn', port=443): Max retries exceeded with url: /api/v1/models/iic/tf-t2v/repo?Revision=master&FilePath=tft2v_t2v_non_ema_512000.pth (Caused by NameResolutionError(\"<urllib3.connection.HTTPSConnection object at 0x7f796aaf3070>: Failed to resolve 'www.modelscope.cn' ([Errno -3] Temporary failure in name resolution)\")) will retry\n",
      "2024-09-15 17:09:06,282 - modelscope - WARNING - Downloading: models/._____temp/iic/tf-t2v/tft2v_t2v_non_ema_512000.pth failed, reason: HTTPSConnectionPool(host='www.modelscope.cn', port=443): Max retries exceeded with url: /api/v1/models/iic/tf-t2v/repo?Revision=master&FilePath=tft2v_t2v_non_ema_512000.pth (Caused by NameResolutionError(\"<urllib3.connection.HTTPSConnection object at 0x7f796aaf36d0>: Failed to resolve 'www.modelscope.cn' ([Errno -3] Temporary failure in name resolution)\")) will retry\n",
      "2024-09-15 17:09:16,291 - modelscope - WARNING - Downloading: models/._____temp/iic/tf-t2v/tft2v_t2v_non_ema_512000.pth failed, reason: HTTPSConnectionPool(host='www.modelscope.cn', port=443): Max retries exceeded with url: /api/v1/models/iic/tf-t2v/repo?Revision=master&FilePath=tft2v_t2v_non_ema_512000.pth (Caused by NameResolutionError(\"<urllib3.connection.HTTPSConnection object at 0x7f796aaf3a30>: Failed to resolve 'www.modelscope.cn' ([Errno -3] Temporary failure in name resolution)\")) will retry\n",
      "2024-09-15 17:09:16,299 - modelscope - WARNING - Downloading: models/._____temp/iic/tf-t2v/tft2v_t2v_non_ema_512000.pth failed, reason: HTTPSConnectionPool(host='www.modelscope.cn', port=443): Max retries exceeded with url: /api/v1/models/iic/tf-t2v/repo?Revision=master&FilePath=tft2v_t2v_non_ema_512000.pth (Caused by NameResolutionError(\"<urllib3.connection.HTTPSConnection object at 0x7f7969270910>: Failed to resolve 'www.modelscope.cn' ([Errno -3] Temporary failure in name resolution)\")) will retry\n",
      "2024-09-15 17:09:16,299 - modelscope - WARNING - Downloading: models/._____temp/iic/tf-t2v/tft2v_t2v_non_ema_512000.pth failed, reason: HTTPSConnectionPool(host='www.modelscope.cn', port=443): Max retries exceeded with url: /api/v1/models/iic/tf-t2v/repo?Revision=master&FilePath=tft2v_t2v_non_ema_512000.pth (Caused by NameResolutionError(\"<urllib3.connection.HTTPSConnection object at 0x7f796aae4460>: Failed to resolve 'www.modelscope.cn' ([Errno -3] Temporary failure in name resolution)\")) will retry\n",
      "Downloading [tft2v_t2v_non_ema_512000.pth]: 100%|██████████| 5.28G/5.28G [03:11<00:00, 29.7MB/s] \n",
      "Downloading [tft2v_vcomposer_non_ema_254000.pth]:  78%|███████▊  | 4.13G/5.28G [02:23<02:51, 7.19MB/s] 2024-09-15 17:12:22,334 - modelscope - WARNING - Downloading: models/._____temp/iic/tf-t2v/tft2v_vcomposer_non_ema_254000.pth failed, reason: HTTPSConnectionPool(host='www.modelscope.cn', port=443): Read timed out. will retry\n",
      "Downloading [tft2v_vcomposer_non_ema_254000.pth]: 5.41GB [03:07, 31.0MB/s]                            \n",
      "Downloading [tft2v_vcomposer_non_ema_270000_896x512.pth]: 100%|██████████| 5.28G/5.28G [03:32<00:00, 26.6MB/s]  \n",
      "Downloading [v2-1_512-ema-pruned.ckpt]: 100%|██████████| 4.86G/4.86G [04:10<00:00, 20.8MB/s]  \n",
      "Downloading [videolcm_t2v_non_ema_544000.pth]:  97%|█████████▋| 5.08G/5.26G [03:05<00:46, 4.11MB/s]  2024-09-15 17:24:39,673 - modelscope - WARNING - Downloading: models/._____temp/iic/tf-t2v/videolcm_t2v_non_ema_544000.pth failed, reason: (\"Connection broken: ConnectionResetError(104, 'Connection reset by peer')\", ConnectionResetError(104, 'Connection reset by peer')) will retry\n",
      "Downloading [videolcm_t2v_non_ema_544000.pth]: 5.35GB [04:13, 1.96MB/s]                            2024-09-15 17:26:42,880 - modelscope - WARNING - Downloading: models/._____temp/iic/tf-t2v/videolcm_t2v_non_ema_544000.pth failed, reason: ('Connection broken: IncompleteRead(137566096 bytes read, 30206064 more expected)', IncompleteRead(137566096 bytes read, 30206064 more expected)) will retry\n",
      "Downloading [videolcm_t2v_non_ema_544000.pth]: 5.51GB [05:11, 19.0MB/s]\n",
      "Downloading [videolcm_vcomposer_non_ema_914000.pth]: 100%|██████████| 5.28G/5.28G [03:28<00:00, 27.1MB/s]  \n"
     ]
    }
   ],
   "source": [
    "!pip install modelscope\n",
    "from modelscope.hub.snapshot_download import snapshot_download\n",
    "model_dir = snapshot_download('iic/tf-t2v', cache_dir='models/')"
   ]
  }
 ],
 "metadata": {
  "kernelspec": {
   "display_name": "vgen",
   "language": "python",
   "name": "python3"
  },
  "language_info": {
   "codemirror_mode": {
    "name": "ipython",
    "version": 3
   },
   "file_extension": ".py",
   "mimetype": "text/x-python",
   "name": "python",
   "nbconvert_exporter": "python",
   "pygments_lexer": "ipython3",
   "version": "3.8.19"
  }
 },
 "nbformat": 4,
 "nbformat_minor": 2
}
