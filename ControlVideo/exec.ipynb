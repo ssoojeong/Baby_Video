{
 "cells": [
  {
   "cell_type": "markdown",
   "metadata": {},
   "source": [
    "### 1. Download Weights"
   ]
  },
  {
   "cell_type": "code",
   "execution_count": null,
   "metadata": {},
   "outputs": [],
   "source": [
    "checkpoints\n",
    "├── stable-diffusion-v1-5\n",
    "├── sd-controlnet-canny\n",
    "├── sd-controlnet-depth\n",
    "├── sd-controlnet-openpose\n",
    "├── ...\n",
    "├── flownet.pkl"
   ]
  },
  {
   "cell_type": "code",
   "execution_count": null,
   "metadata": {},
   "outputs": [],
   "source": [
    "curl -s https://packagecloud.io/install/repositories/github/git-lfs/script.deb.sh | sudo bash\n",
    "sudo apt-get install git-lfs\n",
    "git lfs install\n",
    "cd ./checkpoints\n",
    "# git lfs clone https://huggingface.co/CompVis/stable-diffusion-v1-4\n",
    "git lfs clone https://huggingface.co/lllyasviel/sd-controlnet-canny\n",
    "git lfs clone https://huggingface.co/lllyasviel/sd-controlnet-depth\n",
    "git lfs clone https://huggingface.co/lllyasviel/sd-controlnet-openpose"
   ]
  },
  {
   "cell_type": "markdown",
   "metadata": {},
   "source": [
    "### 2. Requirements"
   ]
  },
  {
   "cell_type": "code",
   "execution_count": null,
   "metadata": {},
   "outputs": [],
   "source": [
    "conda create -n controlvideo python=3.10\n",
    "conda activate controlvideo\n",
    "pip install -r requirements.txt"
   ]
  },
  {
   "cell_type": "markdown",
   "metadata": {},
   "source": [
    "### Inference"
   ]
  },
  {
   "cell_type": "code",
   "execution_count": null,
   "metadata": {},
   "outputs": [],
   "source": [
    "python inference.py \\\n",
    "    --prompt \"A striking mallard floats effortlessly on the sparkling pond.\" \\\n",
    "    --condition \"depth_midas\" \\\n",
    "    --video_path \"data/mallard-water.mp4\" \\\n",
    "    --output_path \"test_outputs/\" \\\n",
    "    --video_length 15 \\\n",
    "    --smoother_steps 19 20 \\\n",
    "    --width 512 \\\n",
    "    --height 512 \\\n",
    "    --frame_rate 2 \\\n",
    "    --version v10\n",
    "    # --is_long_video"
   ]
  }
 ],
 "metadata": {
  "language_info": {
   "name": "python"
  }
 },
 "nbformat": 4,
 "nbformat_minor": 2
}
